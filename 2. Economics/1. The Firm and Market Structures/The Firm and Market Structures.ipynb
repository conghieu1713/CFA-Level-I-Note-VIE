{
 "cells": [
  {
   "cell_type": "code",
   "execution_count": 1,
   "id": "29b63b95",
   "metadata": {},
   "outputs": [],
   "source": [
    "from IPython.display import Image"
   ]
  },
  {
   "cell_type": "markdown",
   "id": "46edd52f",
   "metadata": {},
   "source": [
    "# Profit Maximization"
   ]
  },
  {
   "cell_type": "markdown",
   "id": "8a4fac3c",
   "metadata": {},
   "source": []
  },
  {
   "cell_type": "markdown",
   "id": "44efe01e",
   "metadata": {},
   "source": [
    "# Introduction to Market Structures"
   ]
  },
  {
   "cell_type": "markdown",
   "id": "b77d4749",
   "metadata": {},
   "source": []
  },
  {
   "cell_type": "markdown",
   "id": "e06cb0f2",
   "metadata": {},
   "source": [
    "# Monopolistic Competition"
   ]
  },
  {
   "cell_type": "markdown",
   "id": "e3e6c921",
   "metadata": {},
   "source": []
  },
  {
   "cell_type": "markdown",
   "id": "0b90d968",
   "metadata": {},
   "source": [
    "# Oligopoly"
   ]
  },
  {
   "cell_type": "markdown",
   "id": "5be451fa",
   "metadata": {},
   "source": []
  },
  {
   "cell_type": "markdown",
   "id": "a65f7254",
   "metadata": {},
   "source": [
    "# Determining Market Structure"
   ]
  },
  {
   "cell_type": "markdown",
   "id": "de877576",
   "metadata": {},
   "source": []
  }
 ],
 "metadata": {
  "kernelspec": {
   "display_name": "Python 3 (ipykernel)",
   "language": "python",
   "name": "python3"
  },
  "language_info": {
   "codemirror_mode": {
    "name": "ipython",
    "version": 3
   },
   "file_extension": ".py",
   "mimetype": "text/x-python",
   "name": "python",
   "nbconvert_exporter": "python",
   "pygments_lexer": "ipython3",
   "version": "3.11.6"
  }
 },
 "nbformat": 4,
 "nbformat_minor": 5
}
