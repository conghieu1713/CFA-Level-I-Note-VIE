{
 "cells": [
  {
   "cell_type": "code",
   "execution_count": 1,
   "metadata": {},
   "outputs": [],
   "source": [
    "from IPython.display import Image"
   ]
  },
  {
   "cell_type": "markdown",
   "metadata": {},
   "source": [
    "# Portfolio Expected Return and Variance of Return"
   ]
  },
  {
   "cell_type": "markdown",
   "metadata": {},
   "source": [
    "## Portfolio Expected Return"
   ]
  },
  {
   "cell_type": "markdown",
   "metadata": {},
   "source": [
    "Lợi nhuận kỳ vọng của danh mục chính là trung bình của lợi nhuận kỳ vọng của từng loại tài sản trong danh mục $R_i$ với trọng số là tỷ lệ tương ứng của tài sản đó trong danh mục $w_i$:\n",
    "\n",
    "$$\n",
    "E(R_P) = E(\\sum_{i=1}^{n}{w_i R_i} = \\sum_{i=1}^{n}{w_i E(R_i)}\n",
    "$$"
   ]
  },
  {
   "cell_type": "markdown",
   "metadata": {},
   "source": [
    "## Covariance"
   ]
  },
  {
   "cell_type": "markdown",
   "metadata": {},
   "source": [
    " Với hai biến độc lập $R_i, R_j$, hiệp phương sai của chúng là:\n",
    " \n",
    " $$\n",
    " Cov(R_i,R_j) = E\\left((R_i-E(R_i))(R_j-E(R_j))\\right) = \\dfrac{\\sum_{i=1}^{n}{(R_{i,t}-\\overline(R_i))(R_{j,t}-\\overline(R_j))}}{n-1}\n",
    " $$\n",
    " "
   ]
  },
  {
   "cell_type": "markdown",
   "metadata": {},
   "source": [
    "## Correlation"
   ]
  },
  {
   "cell_type": "markdown",
   "metadata": {},
   "source": [
    "Với hai biến độc lập $R_i, R_j$, hệ số tương quan của chúng là:\n",
    "\n",
    "$$\n",
    "\\rho(R_i,R_j) = \\dfrac{Cov(R_i,R_j)}{\\sigma(R_i)\\sigma(R_j)}\n",
    "$$"
   ]
  },
  {
   "cell_type": "markdown",
   "metadata": {},
   "source": [
    "## Portfolio Variance"
   ]
  },
  {
   "cell_type": "markdown",
   "metadata": {},
   "source": [
    "Chúng ta quan tâm đến phương sai danh mục như một thước đo rủi ro đầu tư:\n",
    "\n",
    "$$\n",
    "\\sigma^2(R_P)=E\\left((R_P - E(R_P))^2\\right)\n",
    "$$"
   ]
  },
  {
   "cell_type": "markdown",
   "metadata": {},
   "source": [
    "Chúng ta có thể viết lại phương sai danh mục thông qua hiệp phương sai giữa các tài sản riêng lẻ trong danh mục  và/hoặc hệ số tương quan giữa chúng như sau:\n",
    "\n",
    "$$\n",
    "\\sigma^2(R_P)=\\sum_{i=1}^{n}{w_i^2\\sigma^2(R_i)} + \\sum_{sym}{w_1w_2Cov(R_1,R_2)} = \\sum_{i=1}^{n}{w_i^2\\sigma^2(R_i)} + \\sum_{sym}{\\rho(R_1,R_2)}w_1w_2\\sigma(R_1)\\sigma(R_2)\n",
    "$$"
   ]
  },
  {
   "cell_type": "markdown",
   "metadata": {},
   "source": [
    "# Forecasting Correlation of Returns: Covariance Given a Joint Probability Function"
   ]
  },
  {
   "cell_type": "markdown",
   "metadata": {},
   "source": [
    "Thông thường, có hai cách để dự báo tương quan của tỷ suất sinh lợi. Đó là:\n",
    "\n",
    "1. Sử dụng dữ liệu hiệp phương sai lịch sử hoặc hồi quy dựa trên dữ liệu sinh lợi lịch sử\n",
    "\n",
    "2. Sử dụng hàm xác suất kết hợp (`joint probability function`) của các biến ngẫu nhiên"
   ]
  },
  {
   "cell_type": "markdown",
   "metadata": {},
   "source": [
    "# Portfolio Risk Measures: Applications of the Normal Distribution"
   ]
  },
  {
   "cell_type": "markdown",
   "metadata": {},
   "source": [
    "Lý thuyết danh mục đầu tư hiện đại (`modern portfolio theory` - MPT) thường xuyên quan tâm đến các thước đo là trung bình và phương sai của tỷ suất sinh lợi. Trong lý thuyết kinh tế, phân tích trung bình - phương sai sẽ đúng khi (1) tỷ suất sinh lợi có phân phối chuẩn; hoặc (2) nhà đầu tư có hàm thỏa dụng bậc hai. Tuy nhiên, phân tích này vẫn được sử dụng ngay cả khi hai giả thuyết trên bị vi phạm, bởi vì (1) phân tích viên thích làm việc với những gì có thể quan sát; và (2) phân tích trả về giá trị gần đúng (*xem lại lý thuyết giới hạn trung tâm*). Do đó, phân tích trung bình - phương sai luôn đóng vai trò quan trọng đối với MPT.\n",
    "\n",
    "Phân tích trung bình - phương sai xem xét rủi ro ở cả hai phía (ở đây là cả tăng giá và giảm giá). Một hướng tiếp cận khác, cung cấp mô phỏng tốt cho việc áp dụng lý thuyết phân phối chuẩn vào các trường hợp đầu tư thực tế, chính là quy tắc \"an toàn là trên hết\" (`safety-first rules`). Quy tắc này tập trung vào rủi ro giảm giá (`shortfall risk`), nghĩa là rủi ro giá trị và/hoặc tỷ suất sinh lợi danh mục thấp hơn một mức sàn nào đó.\n",
    "\n",
    "Giả định rằng, nhà đầu tư cho rằng tỷ suất sinh lợi dưới mức $R_L$ là không thể chấp nhận được. Roy (1952) đưa ra tiêu chí an toàn là trên hết, cho rằng danh mục đầu tư tối ưu tối thiểu hóa xác suất lợi nhuận danh mục thấp hơn $R_L$. Trong trường hợp tỷ suất sinh lợi có phân phối chuẩn, danh mục tối ưu theo tiêu chí trên sẽ tối đa hóa giá trị SFRatio:\n",
    "\n",
    "$$\n",
    "SFRatio = \\dfrac{E(R_P)-R_L}{\\sigma_P}\n",
    "$$\n",
    "\n",
    "Nhà đầu tư áp dụng quy tắc an toàn là trên hết của Roy (1952) cần thực hiện qua hai bước:\n",
    "\n",
    "1. Tính toán chỉ số SFRatio cho từng danh mục\n",
    "\n",
    "2. Lựa chọn danh mục có SFRatio cao nhất"
   ]
  }
 ],
 "metadata": {
  "kernelspec": {
   "display_name": "Python 3 (ipykernel)",
   "language": "python",
   "name": "python3"
  },
  "language_info": {
   "codemirror_mode": {
    "name": "ipython",
    "version": 3
   },
   "file_extension": ".py",
   "mimetype": "text/x-python",
   "name": "python",
   "nbconvert_exporter": "python",
   "pygments_lexer": "ipython3",
   "version": "3.10.9"
  }
 },
 "nbformat": 4,
 "nbformat_minor": 2
}
