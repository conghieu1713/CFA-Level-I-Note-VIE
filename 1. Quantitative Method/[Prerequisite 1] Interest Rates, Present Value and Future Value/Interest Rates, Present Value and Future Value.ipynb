{
 "cells": [
  {
   "cell_type": "markdown",
   "metadata": {},
   "source": [
    "# Interest Rates"
   ]
  },
  {
   "cell_type": "markdown",
   "metadata": {},
   "source": [
    "Lãi suất có thể được hiểu theo các cách sau:\n",
    "\n",
    "- Tỷ suất lợi nhuận (`rate of return`)\n",
    "\n",
    "- Lãi suất chiết khấu (`discount rate`)\n",
    "\n",
    "- Chi phí cơ hội (`opportunity cost`)\n",
    "\n",
    "Lãi suất bằng tổng của *lãi suất thực phi rủi ro* và các phần bù rủi ro:\n",
    "$$\n",
    "r = RRF + IP + DP + LP + MP\n",
    "$$\n",
    "với $RRF,IP,DP,LP,MP$ lần lượt là lãi suất phi rủi ro thực, phần bù lạm phát, phần bù vỡ nợ, phần bù thanh khoản và phần bù kỳ hạn\n",
    "\n",
    "**Một số lưu ý**\n",
    "\n",
    "- Lãi suất thực phi rủi ro là tỷ suất sinh lợi trong một kỳ hạn cho một chứng khoán hoàn toàn phi rủi ro trong môi trường không lạm phát. Trong lý thuyết kinh tế, lãi suất thực phi rủi ro phản ánh sự ưa thích của các cá nhân giữa việc tiêu dùng thực tế ở hiện tại so với tương lai\n",
    "\n",
    "- Lãi suất phi rủi ro danh nghĩa bằng tổng của lãi suất phi rủi ro thực và phần bù lạm phát:\n",
    "$$\n",
    "NNF = RRF + IP\n",
    "$$"
   ]
  },
  {
   "cell_type": "markdown",
   "metadata": {},
   "source": [
    "# Future Value"
   ]
  },
  {
   "cell_type": "markdown",
   "metadata": {},
   "source": [
    "## Future Value of A Single Cash Flow"
   ]
  },
  {
   "cell_type": "markdown",
   "metadata": {},
   "source": [
    "Giá trị tương lai của một dòng tiền đơn sau $n$ năm được xác định bằng công thức\n",
    "$$\n",
    "FV_{n} = PV (1+r)^{n}\n",
    "$$\n",
    "\n",
    "Trong đó:\n",
    "\n",
    "- $FV_{n} =$ giá trị tương lai của dòng tiền tại năm $n$\n",
    "\n",
    "- $PV =$ giá trị hiện tại của dòng tiền\n",
    "\n",
    "***Ví dụ.*** Giá trị tương lai của dòng tiền đơn có giá trị ở hiện tại là 100 sau 2 năm với lãi suất 5% là: \n",
    "$$\n",
    "100 (1+0.05)^2 = 110.25\n",
    "$$\n",
    "Dưới đây là bảng phân tích:\n",
    "\n",
    "|Khoản mục|Giá trị|\n",
    "|:-|-:|\n",
    "|Đầu tư ban đầu (original investment/principal)|100.00|\n",
    "|Lãi năm đầu tiên|5.00|\n",
    "|Lãi năm thứ hai tính trên đầu tư ban đầu|5.00|\n",
    "|Lãi năm thứ hai tính trên lãi năm thứ nhất (interest on interest)|0.25|\n",
    "|Tổng|110.25|"
   ]
  },
  {
   "cell_type": "markdown",
   "metadata": {},
   "source": [
    "## Non Annual Compounding"
   ]
  },
  {
   "cell_type": "markdown",
   "metadata": {},
   "source": [
    "Thông thường, các định chế tài chính niêm yết lãi suất theo năm (`stated annual interest rate`/`quoted interest rate`, $r_s$) thay vì niêm yết lãi suất theo kỳ trả lãi (`periodic interest rate`, $r$) - đại lượng được sử dụng trong công thức tính giá trị tương lai ở trên.\n",
    "\n",
    "Nếu một năm có $m$ lần ghép lãi, giá trị tương lai của dòng tiền đơn sau $n$ năm được tính bằng công thức:\n",
    "$$\n",
    "FV_{n} = PV \\left(1+\\dfrac{r_s}{m}\\right)^{m n}\n",
    "$$"
   ]
  },
  {
   "cell_type": "markdown",
   "metadata": {},
   "source": [
    "## Continuous Compounding"
   ]
  },
  {
   "cell_type": "markdown",
   "metadata": {},
   "source": [
    "Nếu số lần ghép lãi là vô hạn ($m \\to \\infty$), giá trị tương lai của dòng tiền đơn sau $n$ năm được tính như sau:\n",
    "$$\n",
    "FV_{n} = PV e^{r_s n}\n",
    "$$"
   ]
  },
  {
   "cell_type": "markdown",
   "metadata": {},
   "source": [
    "## Effective Annual Rate"
   ]
  },
  {
   "cell_type": "markdown",
   "metadata": {},
   "source": [
    "Lãi suất niêm yết không giúp chúng ta tính trực tiếp giá trị tương lai, vì vậy chúng ta cần tính lãi suất hiệu dụng (`effective annual rate`) trong một số trường hợp. Đại lượng này được xác định như sau:\n",
    "$$\n",
    "EAR = \\left(1 + \\dfrac{r_s}{m}\\right)^m - 1\n",
    "$$\n",
    "\n",
    "Ở đây, $r_s/m$ còn được gọi là lãi suất theo kỳ ghép lãi (`periodic interest rate`)\n",
    "\n",
    "Trong trường hợp ghép lãi liên tục, lãi suất hiệu dụng được tính bởi công thức:\n",
    "$$\n",
    "EAR = e^{r_s}-1\n",
    "$$"
   ]
  },
  {
   "cell_type": "markdown",
   "metadata": {},
   "source": [
    "## Future Value of A Series of Cash Flows"
   ]
  },
  {
   "cell_type": "markdown",
   "metadata": {},
   "source": [
    "### Commonly Series\n",
    "\n",
    "1. Annuity: Dòng tiền đều\n",
    "\n",
    "    - Ordinary Annuity: Dòng tiền đều cuối kỳ ($t=1$)\n",
    "    \n",
    "    - Annuity Due: Dòng tiền đều đầu kỳ ($t=0$)\n",
    "    \n",
    "2. Perpetuity: Dòng tiền đều vô hạn ($t=1$)\n",
    "\n",
    "3. Growing Perpetuity: Dòng tiền tăng trưởng đều vô hạn ($t=1, g<r$)\n",
    "\n",
    "### Future Value of Annuity\n",
    "\n",
    "Nếu độ lớn dòng tiền mỗi kỳ là $A$, lãi suất mỗi kỳ là $r$, giá trị tương lai của dòng tiền đều cuối kỳ sau $n$ kỳ được tính bởi công thức:\n",
    "$$\n",
    "FV_n = A \\times \\sum_{t=1}^n {(1+r)^{n-t}} = A \\left[\\dfrac{(1+r)^n - 1}{r} \\right]\n",
    "$$\n",
    "\n",
    "Với dòng tiền đều đầu kỳ, giá trị tương lai được tính như sau:\n",
    "$$\n",
    "FV_n = A \\times \\sum_{t=0}^{n-1} {(1+r)^{n-t}} = A \\left[\\dfrac{(1+r)^n - 1}{r} \\right] (1+r)\n",
    "$$\n",
    "\n",
    "### General Formula\n",
    "\n",
    "Với một dòng tiền có độ lớn và lãi suất ở kỳ $t$ lần lượt là $A_t$ và $r_t$, $t = \\overline{0,n}$ , giá trị tương lai của dòng tiền sau $n$ kỳ được tính như sau\n",
    "$$\n",
    "FV_{n} = \\sum_{t=0}^{n-1}{\\left[A_t \\prod_{i=t+1}^{n}{(1+r_i)}\\right]} + A_n\n",
    "$$"
   ]
  },
  {
   "cell_type": "markdown",
   "metadata": {},
   "source": [
    "# Present Value"
   ]
  },
  {
   "cell_type": "markdown",
   "metadata": {},
   "source": [
    "## Present Value of A Single Cash Flow"
   ]
  },
  {
   "cell_type": "markdown",
   "metadata": {},
   "source": [
    "Giá trị hiện tại của một dòng tiền đơn sau $n$ năm được xác định bằng công thức\n",
    "$$\n",
    "PV = FV_{n}\\left[\\dfrac{1}{(1+r)^n}\\right] = FV_{n} (1+r)^{-n}\n",
    "$$"
   ]
  },
  {
   "cell_type": "markdown",
   "metadata": {},
   "source": [
    "## Non Annual Compounding"
   ]
  },
  {
   "cell_type": "markdown",
   "metadata": {},
   "source": [
    "Nếu một năm có $m$ lần ghép lãi, giá trị hiện tại của dòng tiền đơn sau $n$ năm được tính bằng công thức:\n",
    "$$\n",
    "PV = FV_{n}  \\left(1+\\dfrac{r_s}{m}\\right)^{-m n}\n",
    "$$"
   ]
  },
  {
   "cell_type": "markdown",
   "metadata": {},
   "source": [
    "## Present Value of A Series of Equal and Unequal Cash Flows"
   ]
  },
  {
   "cell_type": "markdown",
   "metadata": {},
   "source": [
    "### General Formula\n",
    "\n",
    "Với một dòng tiền có độ lớn và lãi suất ở kỳ $t$ lần lượt là $A_t$ và $r_t$, $t = \\overline{0,n}$ , giá trị hiện tại của dòng tiền sau $n$ kỳ được tính như sau\n",
    "$$\n",
    "PV = A_0 + \\sum_{t=1}^{n}{\\left[A_t \\prod_{i=1}^{t}{(1+r_i)^{-1}}\\right]}\n",
    "$$\n",
    "\n",
    "### Present Value of A Series of Equal Cash Flows\n",
    "\n",
    "Với dòng tiền đều cuối kỳ\n",
    "$$\n",
    "PV = \\sum_{t=1}^{n}{\\left[ \\dfrac{A}{(1+r)^t} \\right]} = A  \\left[ \\dfrac{1-(1+r)^{-n}}{r} \\right]\n",
    "$$\n",
    "\n",
    "Với dòng tiền đều đầu kỳ\n",
    "$$\n",
    "PV = \\sum_{t=0}^{n-1}{\\left[ \\dfrac{A}{(1+r)^t} \\right]} = A  \\left[ \\dfrac{1-(1+r)^{-n+1}}{r} + 1 \\right]\n",
    "$$\n",
    "\n",
    "### Present Value of A Perpetuity\n",
    "\n",
    "Một dòng tiền đều vô hạn có độ lớn ở mỗi kỳ là $A$, lãi suất không đổi $r$ thì có giá trị hiện tại của dòng tiền này là:\n",
    "$$\n",
    "PV = A  \\sum_{t=1}^{\\infty}{\\left[\\dfrac{1}{(1+r)^t}\\right]} = \\dfrac{A}{r}\n",
    "$$\n",
    "\n",
    "### Present Value of Growing Perpetuity\n",
    "\n",
    "Nếu tốc độ tăng tưởng của dòng tiền hàng năm là $g$ và không đổi theo thời gian thì giá trị hiện tại của dòng tiền này là:\n",
    "$$\n",
    "PV = \\dfrac{A_1}{1+r}  \\sum_{t=1}^{\\infty}{\\left[\\dfrac{(1+g)^{t-1}}{(1+r)^{t-1}}\\right]} = \\dfrac{A_1}{r-g}\n",
    "$$"
   ]
  },
  {
   "cell_type": "markdown",
   "metadata": {},
   "source": [
    "# Other Keywords"
   ]
  },
  {
   "cell_type": "markdown",
   "metadata": {},
   "source": [
    "1. `Cash flow additivity principle`: Quy tắc cộng dòng tiền\n",
    "\n",
    "2. `Rule of 72`: Luật 72 - Một khoản đầu tư sẽ tăng gấp đôi giá trị sau một khoảng thời gian gần bằng với 72 năm chia cho lãi suất được niêm yết."
   ]
  }
 ],
 "metadata": {
  "kernelspec": {
   "display_name": "Python 3 (ipykernel)",
   "language": "python",
   "name": "python3"
  },
  "language_info": {
   "codemirror_mode": {
    "name": "ipython",
    "version": 3
   },
   "file_extension": ".py",
   "mimetype": "text/x-python",
   "name": "python",
   "nbconvert_exporter": "python",
   "pygments_lexer": "ipython3",
   "version": "3.10.9"
  }
 },
 "nbformat": 4,
 "nbformat_minor": 2
}
