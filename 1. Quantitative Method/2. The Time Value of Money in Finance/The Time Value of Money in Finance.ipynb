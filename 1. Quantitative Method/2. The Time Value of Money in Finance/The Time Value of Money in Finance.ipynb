{
 "cells": [
  {
   "cell_type": "markdown",
   "metadata": {},
   "source": [
    "# Time Value of Money in Fixed Income and Equity"
   ]
  },
  {
   "cell_type": "markdown",
   "metadata": {},
   "source": [
    "## Concepts"
   ]
  },
  {
   "cell_type": "markdown",
   "metadata": {},
   "source": [
    "Thời điểm diễn ra dòng tiền của các công cụ tài chính ảnh hưởng đến giá trị của chúng, với việc các dòng tiền xuất hiện sớm hơn được ưa thích hơn. Giá trị thời gian của dòng tiền thể hiện sự đánh đổi giữa dòng tiền nhận được hôm nay so với dòng tiền nhận được vào một thời điểm trong tương lai; cho phép so sánh giá trị hiện tại của các dòng tiền khác nhau ứng với các công cụ tài chính khác nhau\n",
    "\n",
    "Một cách tổng quát, mối quan hệ giữa giá trị hiện tại và giá trị tương lai của một dòng tiền với $r$ là lãi suất chiết khấu theo kỳ  và $t$ là số kỳ ghép lãi, được thể hiện bằng công thức dưới đây:\n",
    "\n",
    "$$\n",
    "FV_t = PV(1+r)^t\n",
    "$$\n",
    "\n",
    "Nếu số kỳ ghép lãi $t$ vô cùng lớn ($t\\to\\infty$), chúng ta sử dụng công thức với giả định ghép lãi liên tục dưới đây:\n",
    "\n",
    "$$\n",
    "FV_t = PV e^{rt}\n",
    "$$"
   ]
  },
  {
   "cell_type": "markdown",
   "metadata": {},
   "source": [
    "## Fixed-Income Instruments and the Time Value of Money"
   ]
  },
  {
   "cell_type": "markdown",
   "metadata": {},
   "source": [
    "Chứng khoán khu nhập cố định là các công cụ nợ, ví dụ như trái phiếu hay các khoản vay ngân hàng, là các hợp đồng mà theo đó nhà đầu tư cho tổ chức phát hành vay tiền để đổi lại lời hứa trả nợ trong tương lai. Tỷ lệ chiết khấu cho các công cụ này là lãi suất; tỷ lệ hoàn vốn yêu cầu của chúng thường được gọi là lợi suất đáo hạn (`Yield-To-Maturity` - $YTM$)\n",
    "\n",
    "Dòng tiền liên quan đến chứng khoán thu nhập cố định thường tuân theo một trong ba mẫu hình: `Discount`, `Periodic Interest` và `Level Payments`\n",
    "\n",
    "### Chiết khấu (`Discount`):\n",
    "\n",
    "Nhà đầu tư trả ngay $PV$ để mua công cụ để đổi về việc nhận được một dòng tiền duy nhất $FV$ và thời điểm đáo hạn. Lãi trong suốt thời kỳ của công cụ này chính là chênh lệch của $FV$ và $PV$.\n",
    "\n",
    "$$\n",
    "PV = \\dfrac{FV_t}{(1+r)^t}\n",
    "$$\n",
    "\n",
    "*Loại công cụ này thường được gọi là `zero-coupon`*\n",
    "\n",
    "### Trả lãi định kỳ (`Periodic Interest`)\n",
    "\n",
    "Nhà đầu tư trả ngay $PV$ để đổi về việc nhận được các dòng tiền lãi có quy tắc ${PMT}_i$ trong suốt kỳ hạn của công cụ và khoản nhận được cuối cùng bằng khoản lãi cuối cùng cộng với mệnh giá của công cụ $FV$ tại thời điểm đáo hạn\n",
    "\n",
    "$$\n",
    "PV = \\sum_{i=1}^{t}{\\dfrac{{PMT}_i}{(1+r)^i}} + \\dfrac{FV}{(1+r)^t}\n",
    "$$\n",
    "\n",
    "Trái phiếu vĩnh viễn (`Perpetual bond` hay `Consol bond`) là một dạng ít phổ biến của mẫu hình này. Công cụ này không có ngày đáo hạn, thường được phát hành bởi chính phủ hoặc các công ty muốn có nguồn tài chính tương tự vốn chủ sở hữu, đồng thời công cụ này thường bao gồm các điều khoản mua lại\n",
    "\n",
    "$$\n",
    "PV = \\dfrac{PMT}{r}\n",
    "$$\n",
    "\n",
    "### Hoàn trả định kỳ (`Level Payments`)\n",
    "\n",
    "Nhà đầu tư trả ngay $PV$ để đổi về việc nhận dòng tiền đều định kỳ trong suốt kỳ hạn của công cụ $A$, bao gồm cả lãi và các khoản hoàn trả gốc\n",
    "\n",
    "$$\n",
    "PV = A \\times \\dfrac{1-(1+r)^{-t}}{r}\n",
    "$$"
   ]
  },
  {
   "cell_type": "markdown",
   "metadata": {},
   "source": [
    "## Equity Instruments and the Time Value of Money"
   ]
  },
  {
   "cell_type": "markdown",
   "metadata": {},
   "source": [
    "Chứng khoán vốn, ví du như cổ phiếu ưu đãi hoặc cổ phiếu thường, đại diện cho quyền sở hữu cổ phần trong công ty và cho phép các nhà đầu tư nhận được dòng tiền dưới dạng cổ tức. Chứng khoán vốn được giả định không có ngày đáo hạn cho đến khi công ty được bán, tái cấu trúc hoặc thanh lý\n",
    "\n",
    "Một ý tưởng đẻ định giá chứng khoán vốn, đó là chiết khấu dòng tiền kỳ vọng trong tương lai, bao gồm các khoản chi trả cổ tức và giá kỳ vọng vào cuối thời kỳ đầu tư\n",
    "\n",
    "Các giả định liên quan đến định giá chứng khoán vốn dựa trên cổ tức thường dựa trên một trong ba hướng tiếp cận: cổ tức cố định, cổ tức tăng trưởng đều vô hạn và tỷ lệ tăng trưởng cố tức không cố định\n",
    "\n",
    "### Constant Dividends\n",
    "\n",
    "Nhà đầu tư mua cổ phiếu với giá $PV_t$ để đổi lấy việc nhận về cổ tức đều định kỳ $D$ cho đến vô hạn\n",
    "\n",
    "$$\n",
    "PV_t = \\dfrac{D_t}{r}\n",
    "$$\n",
    "\n",
    "### Constant Dividend Growth Rate\n",
    "\n",
    "Nhà đầu tư mua cổ phiếu với giá $PV_t$ để đổi lấy việc nhận về cổ tức trong năm đầu tiên là $D_{t+1}$ - đại lượng được kỳ vọng tăng trưởng đều với tốc độ $g$ cho đến vô hạn ($g<r$)\n",
    "\n",
    "$$\n",
    "PV_t = \\dfrac{D_{t+1}}{r-g}\n",
    "$$\n",
    "\n",
    "### Changing Dividend Growth Rate\n",
    "\n",
    "Nhà đầu tư mua cổ phiếu với giá $PV_t$ để đổi lấy việc nhận được khoản cổ tức $D_{t+1}$ trong năm đầu tiên - đại lượng được kỳ vọng tăng trưởng theo thời gian với các tỷ lệ khác nhau (giả định thường là công ty chuyển từ tốc độ tăng trưởng cao ban đầu sang các giai đoạn tăng trưởng chậm hơn khi gần thời điểm đáo hạn)\n",
    "\n",
    "*Với các giả định:*\n",
    "\n",
    "* Có $N+1$ giá trị tăng trưởng cổ tức, với\n",
    "\n",
    "    * $N$ lần có tốc độ tăng trưởng cổ tức là $g_i$ trong các thời kỳ $t_i$ hữu hạn\n",
    "    \n",
    "    * Tốc độ tăng trưởng cuối cùng là $g$ cho đến vô hạn ($g<r$)\n",
    "\n",
    "* Giả định lãi suất chiết khấu $r$ không đổi trong vô hạn\n",
    "\n",
    "*chúng ta có thể xác định giá trị của chứng khoán này bằng công thức:*\n",
    "\n",
    "$$\n",
    "PV_t = \\left(\\sum_{i=1}^{N}{\\left(\\left(D_t(1+g_i)\\prod_{j=1}^{i-1}{(1+g_j)}^{t_j}\\right)\\left(\\dfrac{1-\\left(\\dfrac{1+g_i}{1+r}\\right)^{t_i}}{r-g_i}\\right)\\left(\\prod_{j=1}^{i-1}{(1+r)^{-t_j}}\\right)\\right)}\\right) \n",
    "$$\n",
    "$$\n",
    "+ \\dfrac{D_t(1+g)\\prod_{j=1}^{N}{(1+g_j)^{t_j}}}{r-g}\\left(\\prod_{j=1}^{N}{(1+r)^{t_j}}\\right)\n",
    "$$"
   ]
  },
  {
   "cell_type": "markdown",
   "metadata": {},
   "source": [
    "# Implied Return and Growth"
   ]
  },
  {
   "cell_type": "markdown",
   "metadata": {},
   "source": [
    "Đôi khi, chúng ta có thể biết trước cả dòng tiền hiện tại và dòng tiền tương lai của các công cụ tài chính. Trong trường hợp này, chúng ta có thể tính được tỷ suất sinh lợi hoặc tốc độ tăng trưởng ngầm định dựa trên giá hiện tại và các đặc điểm của dòng tiền trong tương lai. Điều này có nghĩa là chúng ta có thể nhìn thấy kỳ vọng của thị trường được đưa vào giá thị trường của tài sản"
   ]
  },
  {
   "cell_type": "markdown",
   "metadata": {},
   "source": [
    "## Implied Return for Fixed-Income Instruments"
   ]
  },
  {
   "cell_type": "markdown",
   "metadata": {},
   "source": [
    "Chứng khoán thu nhập cố định có các đặc trưng là lãi suất hợp đồng và dòng tiền gốc (`principal`). Nếu chúng ta quan sát giá hiện tại và giả định rằng tất cả các dòng tiền trong tương lai đều xảy ra như hứa hẹn, khi đó tỷ lệ chiết khấu $r$ hoặc lợi suất đáo hạn $YTM$ là các thước đo sinh lợi ngầm định theo các giả định này đối với mẫu hình dòng tiền\n",
    "\n",
    "*Đối với `zero-coupon` có thời hạn trong $t$ thời kỳ, chúng ta có thể tính tỷ suất sinh lợi ngầm định của nó như sau*\n",
    "\n",
    "$$\n",
    "r = \\sqrt[t]{\\dfrac{FV_t}{PV}}-1\n",
    "$$\n",
    "\n",
    "*$YTM$ giả định rằng nhà đầu tư nhận được tất cả dòng tiền như hứa hẹn trong suốt đời sống của công cụ và sau đó tái đầu tư ngay lập tức bất kỳ dòng tiền vào với $YTM$ tương đương. $YTM$ không thể được tính trực tiếp bởi một công tức, song nó có thể được xác định bằng phương pháp thử và sai, hoặc thông qua tìm nghiệm với phương trình ẩn $r$ sau:*\n",
    "\n",
    "$$\n",
    "PV = \\sum_{i=1}^{N}{\\dfrac{{CF}_{i}}{(1+r)^i}}\n",
    "$$"
   ]
  },
  {
   "cell_type": "markdown",
   "metadata": {},
   "source": [
    "## Equity Instruments - Implied Return and Implied Growth"
   ]
  },
  {
   "cell_type": "markdown",
   "metadata": {},
   "source": [
    "Nếu chúng ta bắt đầu với giả định cổ tức tăng trưởng đều ổn định trong vô hạn, chúng ta có thể thiết lập một mối quan hệ giữa tỷ lệ tăng trưởng ngầm định $g$, tỷ suất sinh lợi đòi hỏi $r$ và tỷ suất cổ tức (`dividend yield` - $DY$) như sau:\n",
    "\n",
    "$$\n",
    "r = g + \\dfrac{D_{t+1}}{PV_t}\n",
    "$$\n",
    "\n",
    "Ngoài cách so sánh giá trực tiếp, một cách khác thường được sử dụng là so sánh tỷ số $P/E$. Cũng với giả định trên, chúng ta có thể thiết lập một công thức thể hiện mối quan hệ giữa $P/E$, tỷ lệ chi trả cổ tức (`dividend payout ratio` - $DPR$), tỷ suất sinh lợi đòi hỏi $r$ và tỷ lệ tăng trưởng ngầm định $g$ như sau:\n",
    "\n",
    "$$\n",
    "\\dfrac{PV_t}{E_t} = \\left(\\dfrac{D_t}{E_t}\\right)\\left(\\dfrac{1+g}{r-g}\\right)\n",
    "$$\n",
    "\n",
    "Trên thực tế, việc so sánh tỷ lệ giá trên thu nhập kỳ vọng $P_0/E_1$ được ưa thích hơn. Cụ thể:\n",
    "\n",
    "$$\n",
    "\\dfrac{PV_t}{E_{t+1}} = \\left(\\dfrac{D_{t+1}}{E_{t+1}}\\right)\\left(\\dfrac{1}{r-g}\\right)\n",
    "$$"
   ]
  },
  {
   "cell_type": "markdown",
   "metadata": {},
   "source": [
    "# Cash Flow Additivity"
   ]
  },
  {
   "cell_type": "markdown",
   "metadata": {},
   "source": [
    "## Concepts"
   ]
  },
  {
   "cell_type": "markdown",
   "metadata": {},
   "source": [
    "Theo nguyên tắc cộng dòng tiền, giá trị hiện tại của bất kỳ chuỗi dòng tiền nào diễn ra cùng một thời điểm bằng với tổng các giá trị hiện tại của các dòng tiền thành phần. Nguyên tắc này rất quan trọng trong việc đảm bảo rằng giá thị trường phản ánh không có điều kiện để kinh doanh chênh lệch giá và/hoặc không có khả năng kiếm được lợi nhuận phi rủi ro mà không có sự xuất hiện của chi phí giao dịch"
   ]
  },
  {
   "cell_type": "markdown",
   "metadata": {},
   "source": [
    "## Implied Forward Rates Using Cash Flow Additivity"
   ]
  },
  {
   "cell_type": "markdown",
   "metadata": {},
   "source": [
    "Một cách tổng quát, xét hai chứng khoán phi rủi ro với các kỳ hạn khác nhau:\n",
    "\n",
    "* Chứng khoán 1: lãi suất $r_1$, kỳ hạn $t_1$\n",
    "\n",
    "* Chứng khoán 2: lãi suất $r_2$, kỳ hạn $t_2 > t_1$\n",
    "\n",
    "Ở đây, nhà đầu tư cần đưa ra lựa chọn giữa hai chiến lược:\n",
    "\n",
    "* Chiến lược 1: đầu tư ngày hôm nay với chứng khoán 2\n",
    "\n",
    "* Chiến lược 2: đầu tư ngày hôm nay với chứng khoán 1 và tái đầu tư những gì nhận được với lãi suất là $F_{t_1,\\Delta t}$ (lãi suất kỳ hạn $\\Delta t$ năm của chứng khoán được mua sau $t_1$ năm nữa)\n",
    "\n",
    "Theo nguyên tắc cộng dòng tiền, một nhà đầu tư không quan tâm đến rủi ro sẽ bàng quan giữa hai danh mục này với điều kiện dưới đây:\n",
    "\n",
    "$$\n",
    "(1+r_2)^{t_2} = (1+r_1)^{t_1}(1+F_{t_1,\\Delta t})^{\\Delta t}\n",
    "$$\n",
    "\n",
    "$$\n",
    "\\Leftrightarrow F_{t_1,\\Delta t} = \\sqrt[\\Delta t]{\\dfrac{(1+r_2)^{t_2}}{(1+r_1)^{t_1}}} - 1\n",
    "$$\n",
    "\n",
    "Việc thiết kế các chiến lược này minh họa cho việc lãi suất kỳ hạn nên được thiết lập sao cho các nhà đầu tư không thể kiếm được lợi nhuận chênh lệch phi rủi ro trên thị trường tài chính"
   ]
  },
  {
   "cell_type": "markdown",
   "metadata": {},
   "source": [
    "## Forward Exchange Rates Using Cash Flow Additivity"
   ]
  },
  {
   "cell_type": "markdown",
   "metadata": {},
   "source": [
    "Chúng ta xét đến kịch bản kinh tế liên quan đến các đồng tiền khác nhau. Giả sử bạn đang phân vân trong việc đầu tư trái phiếu chính phủ của hai quốc gia A và B trong kỳ hạn $t$. Các thông tin bạn có là:\n",
    "\n",
    "* Trái phiếu chính phủ A và B có lãi suất lần lượt là $r_A$ và $r_B$\n",
    "\n",
    "* Tỷ giá giao ngay trên thị trường là $A = Sp \\times B$\n",
    "\n",
    "* Tỷ giá kỳ hạn trên thị trường là $A = Fw \\times B$\n",
    "\n",
    "Khi đó:\n",
    "\n",
    "* Nếu bạn đầu tư vào trái phiếu chính phủ A, tỷ suất sinh lợi bạn nhận được là $i_A = e^{r_A t}$\n",
    "\n",
    "* Nếu bạn đầu tư vào trái phiếu chính phủ B, tỷ suất sinh lợi bạn nhận được bằng tích của lãi suất trái phiếu chính phủ B nhân với độ biến động tỷ giá\n",
    "\n",
    "$$\n",
    "i_B = e^{r_B t} \\times \\dfrac{Sp}{Fw}\n",
    "$$\n",
    "\n",
    "Với điều kiện không tồn tại cơ hội kinh doanh chênh lệch giá $i_A = i_B$, tỷ giá kỳ hạn của A và B được xác định như sau:\n",
    "\n",
    "$$\n",
    "Fw = e^{t(r_B-r_A)}\\times Sp\n",
    "$$\n",
    "\n",
    "Bất kỳ một mức tỷ giá kỳ hạn nào khác với giá trị $Fw$ xác định ở trên đều tạo ra cơ hội kinh doanh chênh lệch giá trên thị trường"
   ]
  },
  {
   "cell_type": "markdown",
   "metadata": {},
   "source": [
    "## Option Pricing Using Cash Flow Additivity"
   ]
  },
  {
   "cell_type": "markdown",
   "metadata": {},
   "source": [
    "*Xét một ví dụ cụ thể như sau*\n",
    "\n",
    "Giả định rằng một loại tài sản đang có giá thị trường là $S_0$. Đây là tài sản có rủi ro khi giá của nó có thể tăng lên mức $S_1^i$ hoặc giảm xuống mức $S_1^d$ trong một kỳ hạn tới\n",
    "\n",
    "Một nhà đầu tư kỳ vọng bán được một quyền chọn mua kiểu Châu Âu với giá thực hiện là $X$ ($S_1^d<X<S_1^i$) đáo hạn trong kỳ hạn tới\n",
    "\n",
    "Bạn cần xác định giá bán của quyền chọn sao cho không có cơ hội kinh doanh chênh lệch giá đối với hợp đồng quyền chọn này\n",
    "\n",
    "**Lời giải**\n",
    "\n",
    "Ở đây, bạn hoàn toàn có thể sử dụng nguyên tắc cộng dòng tiền để xác định giá của quyền chọn. Quy trình thực hiện như sau:\n",
    "\n",
    "1. Xây dựng danh mục phòng ngừa rủi ro dựa trên tài sản cơ sở và quyền chọn. Trong ví dụ này, chúng ta xây dựng danh mục bằng việc nắm giữ $\\alpha$ vị thế mua tài sản và bán 1 quyền chọn mua ($\\alpha$ được gọi là hệ số phòng ngừa rủi ro (`hedge ratio`))\n",
    "\n",
    "2. Xác định giá trị của danh mục vào thời điểm ban đầu. Trong ví dụ này, với $c$ là giá trị quyền chọn ở hiện tại, giá trị danh mục tại thời điểm ban đầu là:\n",
    "$$\n",
    "V_0 = \\alpha S_0 - c\n",
    "$$\n",
    "\n",
    "3. Xác dịnh giá trị của danh mục vào thời điểm đáo hạn trong tất cả các kịch bản:\n",
    "\n",
    "$$\n",
    "V_1^i = \\alpha S_1^i - (S_1^i-X)\n",
    "$$\n",
    "$$\n",
    "V_1^d = \\alpha S_1^d\n",
    "$$\n",
    "\n",
    "Với điều kiện không tồn tại cơ hội kinh doanh chênh lệch giá, giá trị của danh mục trong tất cả các kịch bản là như nhau. Do đó chúng ta xác định dược $\\alpha$, từ đó cũng tính được $V_1$ và $c$ thông qua phép chiết khấu"
   ]
  }
 ],
 "metadata": {
  "kernelspec": {
   "display_name": "Python 3 (ipykernel)",
   "language": "python",
   "name": "python3"
  },
  "language_info": {
   "codemirror_mode": {
    "name": "ipython",
    "version": 3
   },
   "file_extension": ".py",
   "mimetype": "text/x-python",
   "name": "python",
   "nbconvert_exporter": "python",
   "pygments_lexer": "ipython3",
   "version": "3.10.9"
  }
 },
 "nbformat": 4,
 "nbformat_minor": 2
}
