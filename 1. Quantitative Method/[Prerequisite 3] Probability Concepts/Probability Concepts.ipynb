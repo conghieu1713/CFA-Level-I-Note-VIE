{
 "cells": [
  {
   "cell_type": "code",
   "execution_count": 3,
   "metadata": {},
   "outputs": [],
   "source": [
    "from IPython.display import Image"
   ]
  },
  {
   "cell_type": "markdown",
   "metadata": {},
   "source": [
    "# Probability Concepts and Odds Ratios"
   ]
  },
  {
   "cell_type": "markdown",
   "metadata": {},
   "source": [
    "## Concepts"
   ]
  },
  {
   "cell_type": "markdown",
   "metadata": {},
   "source": [
    "- **Trial:** *phép thử* là việc thực hiện một tập hợp các điều kiện xác định\n",
    "\n",
    "- **Event:** *sự kiện* hay *biến cố* là một kết quả hoặc một tập kết quả của một phép thử (một tập con trong tập không gian mẫu)\n",
    "\n",
    "- **Random variable:** *biến ngẫu nhiên* là một hàm được gán cho một phép thử, mà giá trị của nó không thế đoán trước\n",
    "\n",
    "- **Outcome:** là *kết cục* có thể xảy ra của một phép thử (một phần tử trong tập không gian mẫu)\n",
    "\n",
    "- **Mutually exclusives:** *biến cố xung khắc* là các biến cố không thể xảy ra đồng thời\n",
    "\n",
    "- **Exhaustive:** *sự kiện tất yếu* là sự kiện/hệ sự kiện bao hàm tất cả các kết cục có thể xảy ra\n",
    "\n",
    "- **Independent event:** *biến cố độc lập* là biến cố mà việc xác suất biến cố đó xảy ra không ảnh hưởng đến xác suất biến cố khác xảy ra\n",
    "\n",
    "- **Dependent event:** *biến cố phụ thuộc* là biến cố mà việc xác suất biến cố đó xảy ra bị ảnh hưởng/có thể gây ảnh hưởng đến xác suất xảy ra biến cố khác\n",
    "\n",
    "- **Empirical Probability:** xác suất dựa trên dữ liệu lịch sử\n",
    "\n",
    "- **Subjective Probability:** xác suất dựa trên phân tích chủ quan (quan điểm cá nhân hoặc kinh nghiệm)\n",
    "\n",
    "- **Priori Probability:** xác suất dựa trên phân tích logic\n",
    "\n",
    "- **Objective Probabilities:** xác suất dựa trên dữ liệu lịch sử và phân tích logic\n"
   ]
  },
  {
   "cell_type": "markdown",
   "metadata": {},
   "source": [
    "## Odds"
   ]
  },
  {
   "cell_type": "markdown",
   "metadata": {},
   "source": [
    "**Odds** được định nghĩa là tỷ số xác suất giữa một biến cố và biến cố đối của nó\n",
    "\n",
    "1. **Odds for E:**\n",
    "\n",
    "$$\n",
    "OR = \\dfrac{P(E)}{1-P(E)}\n",
    "$$\n",
    "\n",
    "2. **Odds against E:**\n",
    "\n",
    "$$\n",
    "OR = \\dfrac{1-P(E)}{P(E)}\n",
    "$$"
   ]
  },
  {
   "cell_type": "markdown",
   "metadata": {},
   "source": [
    "# Conditional and Joint Probability"
   ]
  },
  {
   "cell_type": "markdown",
   "metadata": {},
   "source": [
    "## Conditional Probability"
   ]
  },
  {
   "cell_type": "markdown",
   "metadata": {},
   "source": [
    "**Conditional Probability:** Xác suất của $A$ với điều kiện $B$ được định nghĩa là xác suất biến cố $A$ xảy ra trong điều kiện biến cố $B$ đã xảy ra:\n",
    "\n",
    "$$\n",
    "P(A|B) = \\dfrac{P(AB)}{P(B)}\n",
    "$$\n",
    "\n",
    "Nếu $A$ và $B$ là hai biến cố độc lập, thì $P(A|B) = P(A)$\n",
    "\n",
    "**Unconditional Probability/Marginal Probability:** Xác suất không điều kiện của biến cố $A$, $P(A)$ là xác suất xảy ra biến cố $A$ mà không quan tâm đến các biến cố khác\n"
   ]
  },
  {
   "cell_type": "markdown",
   "metadata": {},
   "source": [
    "## Joint Probability"
   ]
  },
  {
   "cell_type": "markdown",
   "metadata": {},
   "source": [
    "Xác suất kết hợp của hai biến cố $A$ và $B$ là xác suất để hai biến cố $A$ và $B$ đồng thời xảy ra\n",
    "\n",
    "$$\n",
    "P(AB) = P(A \\cap B)\n",
    "$$"
   ]
  },
  {
   "cell_type": "markdown",
   "metadata": {},
   "source": [
    "## Multiplication, Addition and Total Probability Rules"
   ]
  },
  {
   "cell_type": "markdown",
   "metadata": {},
   "source": [
    "1. **Multiplication Probability Rule**\n",
    "\n",
    "Xác suất kết hợp của $A$ và $B$ được tính như sau:\n",
    "\n",
    "$$\n",
    "P(AB) = P(A|B)P(B)\n",
    "$$\n",
    "\n",
    "***Note:*** Rõ ràng, nếu $A$ và $B$ độc lập với nhau thì khi đó xác suất kết hợp của hai biến cố này bằng tích xác suất biên của hai biến cố thành phần\n",
    "\n",
    "$$\n",
    "P(AB)=P(A)P(B)\n",
    "$$\n",
    "\n",
    "2. **Addtion Probability Rule**\n",
    "\n",
    "Xác suất để ít nhất một trong hai biến cố $A$ và $B$ có thể xảy ra được tính như sau:\n",
    "\n",
    "$$\n",
    "P(A \\vee B) = P(A) + P(B) - P(AB)\n",
    "$$\n",
    "\n",
    "3. **Total Probability Rule**\n",
    "\n",
    "Quy tắc tổng xác suất mô tả mối liên hệ giữa xác suất độc lập và các xác suất có điều kiện:\n",
    "\n",
    "$$\n",
    "P(A) = \\sum_{i=1}^{n}{P(AS_i)} = \\sum_{i=1}^{n}{P(A|S_i)P(S_i)}\n",
    "$$\n",
    "\n",
    "Trong đó, các biến cố $S_i$ xung khắc với nhau và hợp của chúng là biến cố tất yếu"
   ]
  },
  {
   "cell_type": "code",
   "execution_count": 6,
   "metadata": {},
   "outputs": [
    {
     "data": {
      "image/png": "[encoded data removed]",
      "text/plain": [
       "<IPython.core.display.Image object>"
      ]
     },
     "execution_count": 6,
     "metadata": {},
     "output_type": "execute_result"
    }
   ],
   "source": [
    "# Mô tả quy tắc tổng xác suất\n",
    "Image(filename = \"Pictures/01.png\")"
   ]
  },
  {
   "cell_type": "markdown",
   "metadata": {},
   "source": [
    "# Principle of Counting"
   ]
  },
  {
   "cell_type": "markdown",
   "metadata": {},
   "source": [
    "## Multiplication Rule of Counting"
   ]
  },
  {
   "cell_type": "markdown",
   "metadata": {},
   "source": [
    "Nếu một công việc nào đó phải trải qua $k$ giai đoạn liên tiếp, trong đó giai đoạn $i$ có $n_i$ cách thực hiện ($i = \\overline{1,k}$)"
   ]
  },
  {
   "cell_type": "markdown",
   "metadata": {},
   "source": [
    "## Multinomial Formula"
   ]
  },
  {
   "cell_type": "markdown",
   "metadata": {},
   "source": [
    "Số cách để $n$ phần tử được dán nhãn với $k$ loại nhãn khác nhau, trong đó nhãn $i$ có $n_i$ phần tử được tính bằng công thức:\n",
    "\n",
    "$$\n",
    "\\dfrac{n!}{\\prod_{i=1}^{k}{{n_i}!}}\n",
    "$$"
   ]
  },
  {
   "cell_type": "markdown",
   "metadata": {},
   "source": [
    "## Combination Formula"
   ]
  },
  {
   "cell_type": "markdown",
   "metadata": {},
   "source": [
    "Số cách để chọn ra $k$ phần tử từ một tập $n$ phần tử cho trước được gọi là *tổ hợp chập $k$ của $n$*, và được tính như sau:\n",
    "\n",
    "$$\n",
    "C_{n}^{k} = \\dfrac{n!}{k!(n-k)!}\n",
    "$$\n",
    "\n",
    "***Example:*** Hướng dẫn xếp hạng cho 18 quỹ tương hỗ trái phiếu theo tổng lợi nhuận trong năm qua chỉ định cho mỗi quỹ thuộc một trong năm nhóm rủi ro: rủi ro cao (4 quỹ), rủi ro trên trung bình (4 quỹ), rủi ro trung bình (3 quỹ), rủi ro dưới trung bình (4 quỹ) và rủi ro thấp (3 quỹ). Có bao nhiêu cách khác nhau để chúng ta có thể xếp hạng các quỹ tương hỗ theo hướng dẫn ở trên?\n",
    "\n",
    "Ở đây, chúng ta có hai cách tiếp cận để giải quyết bài toán trên:\n",
    "\n",
    "1. *Hướng tiếp cận bằng hoán vị:* bài toán này có thể được phát biểu lại như sau: có bao nhiêu số tự nhiên có 18 chữ số có thể được tạo ra bằng các chữ số 1, 2, 3, 4, 5; trong đó chữ số 1, 2, 3 được lặp lại 4 lần, chữ số 4 và 5 được lặp lại 3 lần? Tìm ra đáp án của bài toán này quá đơn giản:\n",
    "\n",
    "$$\n",
    "\\dfrac{18!}{4! 4! 4! 3! 3!} = 12,864,852,000\n",
    "$$\n",
    "\n",
    "2. *Hướng tiếp cận bằng tổ hợp* nhiệm vụ xếp hạng cho các quỹ có thể được coi là quy trình có 4 bước tuần tự: tìm ra 4 quỹ có rủi ro cao, tìm ra 4 quỹ có rủi ro trung bình cao, tìm ra 3 quỹ có rủi ro trung bình, tìm ra 4 quỹ có rủi ro trung bình thấp (tất nhiên 3 quỹ còn lại cuối cùng thuộc nhóm rủi ro thấp). Như vậy, số cách xếp hạng sẽ bằng:\n",
    "\n",
    "$$\n",
    "C_{18}^{4} C_{14}^{4} C_{10}^{3} C_{7}^{4} = 12,864,852,000\n",
    "$$\n",
    "\n",
    "Như các bạn đã thấy, *chẳng có một sự khác biệt nào về kết quả* dù cho cách tiếp cận bài toán là khác nhau"
   ]
  },
  {
   "cell_type": "markdown",
   "metadata": {},
   "source": [
    "## Permutation Formula"
   ]
  },
  {
   "cell_type": "markdown",
   "metadata": {},
   "source": [
    "Số cách chọn ra $k$ phần tử có thứ tự từ một tập gồm $n$ phần tử cho trước được gọi là *chỉnh hợp chập $k$ của $n$*, và được tính như sau:\n",
    "\n",
    "$$\n",
    "P_{n}^{k} = \\dfrac{n!}{k!}\n",
    "$$"
   ]
  }
 ],
 "metadata": {
  "kernelspec": {
   "display_name": "Python 3 (ipykernel)",
   "language": "python",
   "name": "python3"
  },
  "language_info": {
   "codemirror_mode": {
    "name": "ipython",
    "version": 3
   },
   "file_extension": ".py",
   "mimetype": "text/x-python",
   "name": "python",
   "nbconvert_exporter": "python",
   "pygments_lexer": "ipython3",
   "version": "3.10.9"
  }
 },
 "nbformat": 4,
 "nbformat_minor": 2
}
